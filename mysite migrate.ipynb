{
 "cells": [
  {
   "cell_type": "markdown",
   "metadata": {},
   "source": [
    "http://127.0.0.1:8000"
   ]
  },
  {
   "cell_type": "code",
   "execution_count": 4,
   "metadata": {
    "collapsed": false,
    "scrolled": false
   },
   "outputs": [
    {
     "name": "stdout",
     "output_type": "stream",
     "text": [
      "Operations to perform:\n",
      "  Synchronize unmigrated apps: staticfiles, django_extensions, messages\n",
      "  Apply all migrations: admin, contenttypes, auth, sessions\n",
      "Synchronizing apps without migrations:\n",
      "  Creating tables...\n",
      "    Running deferred SQL...\n",
      "  Installing custom SQL...\n",
      "Running migrations:\n",
      "  No migrations to apply.\n"
     ]
    }
   ],
   "source": [
    "%run manage.py migrate"
   ]
  },
  {
   "cell_type": "code",
   "execution_count": 7,
   "metadata": {
    "collapsed": false
   },
   "outputs": [
    {
     "name": "stdout",
     "output_type": "stream",
     "text": [
      "No changes detected in app 'blog'\n"
     ]
    }
   ],
   "source": [
    "%run manage.py makemigrations blog"
   ]
  },
  {
   "cell_type": "code",
   "execution_count": 8,
   "metadata": {
    "collapsed": false
   },
   "outputs": [
    {
     "name": "stdout",
     "output_type": "stream",
     "text": [
      "Operations to perform:\n",
      "  Apply all migrations: blog\n",
      "Running migrations:\n",
      "  Rendering model states... DONE\n",
      "  Applying blog.0002_comment... OK\n"
     ]
    }
   ],
   "source": [
    "%run manage.py migrate blog"
   ]
  },
  {
   "cell_type": "code",
   "execution_count": 5,
   "metadata": {
    "collapsed": false
   },
   "outputs": [
    {
     "name": "stdout",
     "output_type": "stream",
     "text": [
      "Superuser creation skipped due to not running in a TTY. You can run `manage.py createsuperuser` in your project to create one manually.\n"
     ]
    }
   ],
   "source": [
    "% run manage.py createsuperuser\n",
    "# run via anaconda bash works out\n",
    "## remembter to activate ldjango as virtual environment\n"
   ]
  },
  {
   "cell_type": "markdown",
   "metadata": {},
   "source": [
    "http://127.0.0.1:8000/admin/ \n",
    "\n",
    "username: josch\n",
    "\n",
    "email: josch@josch.de\n",
    "\n",
    "password: josch"
   ]
  },
  {
   "cell_type": "code",
   "execution_count": null,
   "metadata": {
    "collapsed": true
   },
   "outputs": [],
   "source": []
  },
  {
   "cell_type": "code",
   "execution_count": null,
   "metadata": {
    "collapsed": true
   },
   "outputs": [],
   "source": []
  }
 ],
 "metadata": {
  "kernelspec": {
   "display_name": "Django Shell-Plus",
   "language": "python",
   "name": "django_extensions"
  },
  "language_info": {
   "codemirror_mode": {
    "name": "ipython",
    "version": 2
   },
   "file_extension": ".py",
   "mimetype": "text/x-python",
   "name": "python",
   "nbconvert_exporter": "python",
   "pygments_lexer": "ipython2",
   "version": "2.7.10"
  }
 },
 "nbformat": 4,
 "nbformat_minor": 0
}
